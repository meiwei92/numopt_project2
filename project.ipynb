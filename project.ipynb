{
 "cells": [
  {
   "cell_type": "markdown",
   "id": "785a7d59",
   "metadata": {},
   "source": [
    "**Project 2 Phase 2**<br>\n",
    "Group 8\n",
    "<br>\n",
    "<table style=\"width:100%\">\n",
    "  <tr>\n",
    "    <th style = \"text-align: left\">#</th>\n",
    "    <th style = \"text-align: left\">Name</th>\n",
    "    <th style = \"text-align: left\">Lastname</th>\n",
    "    <th style = \"text-align: left\">Matr Number</th>\n",
    "  </tr>\n",
    "  <tr>\n",
    "    <td style = \"text-align: left\">1</td>\n",
    "    <td style = \"text-align: left\">Christian</td>\n",
    "    <td style = \"text-align: left\">Peinthor</td>\n",
    "    <td style = \"text-align: left\">11815592</td>\n",
    "  </tr>\n",
    "  <tr>\n",
    "    <td style = \"text-align: left\">2</td>\n",
    "    <td style = \"text-align: left\">Michael</td>\n",
    "    <td style = \"text-align: left\">Weikl</td>\n",
    "    <td style = \"text-align: left\">1154652</td>\n",
    "  </tr>\n",
    "  <tr>\n",
    "    <td style = \"text-align: left\">3</td>\n",
    "    <td style = \"text-align: left\">Uros</td>\n",
    "    <td style = \"text-align: left\">Zivanovic</td>\n",
    "    <td style = \"text-align: left\">12032271</td>\n",
    "  </tr>\n",
    "  <tr>\n",
    "    <td style = \"text-align: left\">4</td>\n",
    "    <td style = \"text-align: left\">Maximilian</td>\n",
    "    <td style = \"text-align: left\">Hofmann</td>\n",
    "    <td style = \"text-align: left\">12019987</td>\n",
    "  </tr>\n",
    "  \n",
    "</table>\n",
    "<br>"
   ]
  },
  {
   "cell_type": "markdown",
   "id": "a877179e",
   "metadata": {},
   "source": [
    "# Basic stuff"
   ]
  },
  {
   "cell_type": "code",
   "execution_count": 1,
   "id": "a6a583e2",
   "metadata": {},
   "outputs": [],
   "source": [
    "import numpy as np\n",
    "import numpy.linalg as lin\n",
    "import scipy.optimize"
   ]
  },
  {
   "cell_type": "markdown",
   "id": "6e7b9191",
   "metadata": {},
   "source": [
    "# Implementations"
   ]
  },
  {
   "cell_type": "markdown",
   "id": "d225ed60",
   "metadata": {},
   "source": [
    "## Simplex"
   ]
  },
  {
   "cell_type": "code",
   "execution_count": 2,
   "id": "74a0a549",
   "metadata": {},
   "outputs": [],
   "source": [
    "def simplex_method(linear_problem: np.ndarray, constraints: np.ndarray, constraint_rhs: np.ndarray):\n",
    "    def swap(variables: list, exits_idx: int, enters_idx: int) -> None:\n",
    "        \"\"\"\n",
    "        In-/excluding respective vectors into/from the basis.\n",
    "        \"\"\"\n",
    "        tmp = variables[exits_idx]\n",
    "        variables[exits_idx] = variables[enters_idx]\n",
    "        variables[enters_idx] = tmp\n",
    "\n",
    "    base_size = constraints.shape[0]  # Number of basis vectors\n",
    "    non_basis_count = constraints.shape[1]  # Number of non basis vectors\n",
    "    working_matrix = np.concatenate((constraints, np.eye(base_size)), axis=1)  # Extended matrix of the system\n",
    "    x = np.concatenate((np.zeros([non_basis_count, 1]), constraint_rhs))  # Right parts of the constraints\n",
    "    weights = np.concatenate((linear_problem, np.zeros([base_size, 1])))  # Objective function quotients\n",
    "    variable_idx = list(range(len(weights)))  # Indices for all variables\n",
    "\n",
    "    while True:\n",
    "        basis_idx = variable_idx[non_basis_count:]\n",
    "        basis = working_matrix.T[basis_idx].T\n",
    "        basis_inv = lin.inv(basis)\n",
    "        x_B = x[basis_idx]\n",
    "        c_B = weights[basis_idx]\n",
    "        lam = lin.inv(basis.T) @ c_B\n",
    "\n",
    "        non_basis_idx = variable_idx[:non_basis_count]\n",
    "        c_N = weights[non_basis_idx]\n",
    "        n_T = working_matrix.T[non_basis_idx]\n",
    "        s_N = c_N - (n_T @ lam)\n",
    "\n",
    "        if np.all(s_N >= 0):\n",
    "            print(\"Optimal solution found!!!\")\n",
    "            solution = c_B.T @ basis_inv @ constraint_rhs\n",
    "            return x_B, solution\n",
    "\n",
    "        # since here must be at least one s_q < 0, we take the argmin to get the index of the smallest value.\n",
    "        q_idx = np.argmin(s_N)  # Fetch the idx in the non basis idx set\n",
    "        q = non_basis_idx[q_idx]  # Fetch the variable_idx\n",
    "        d = basis_inv @ working_matrix.T[q].T\n",
    "        d = np.reshape(d, (len(d), 1))\n",
    "\n",
    "        if np.any(d <= 0):\n",
    "            print(\"Problem is unbound!!!\")\n",
    "            return None, None\n",
    "\n",
    "        piv_weigths = x_B / d\n",
    "        p_idx = np.argmin(piv_weigths)\n",
    "        x_q = piv_weigths[p_idx]\n",
    "        x[basis_idx] = x_B - (d * x_q)\n",
    "        x[q] = x_q  # set entering variable vaLue\n",
    "\n",
    "        # In-/excluding respective vectors into/from the basis:\n",
    "        swap(variables=variable_idx, exits_idx=p_idx + non_basis_count, enters_idx=q_idx)"
   ]
  },
  {
   "cell_type": "markdown",
   "id": "cfe7983e",
   "metadata": {},
   "source": [
    "## Active Set"
   ]
  },
  {
   "cell_type": "code",
   "execution_count": 3,
   "id": "77a33870",
   "metadata": {},
   "outputs": [],
   "source": [
    "def compute_learning_rate(A, p, x, w, b):\n",
    "    numerator = b - (A @ x)\n",
    "    denominator = A @ p\n",
    "    possible_alphas = numerator / denominator\n",
    "\n",
    "    idx_gtz = np.where(denominator > 0)[0].tolist()\n",
    "\n",
    "    if len(idx_gtz) == 0:\n",
    "        return 1, None\n",
    "    else:\n",
    "        blocking = []\n",
    "        for idx in idx_gtz:\n",
    "            if idx not in w:\n",
    "                blocking.append(idx)\n",
    "\n",
    "        if len(blocking) == 0:\n",
    "            return 1, None\n",
    "        else:\n",
    "            possible_alphas = possible_alphas[blocking]\n",
    "            min_alpha = np.argmin(possible_alphas)\n",
    "            if len(min_alpha.shape) != 0:\n",
    "                min_alpha = min_alpha[0]\n",
    "\n",
    "            if possible_alphas[min_alpha] < 1:\n",
    "                return possible_alphas[min_alpha], min_alpha\n",
    "            else:\n",
    "                return 1, None\n",
    "\n",
    "\n",
    "def compute_descent_direction_and_lagrangien(G, x, c, A, w):\n",
    "    working_A = A[w]\n",
    "    size_of_zeros = working_A.shape[0]\n",
    "\n",
    "    problem = np.concatenate((\n",
    "        np.concatenate((G, working_A.T), axis=1),\n",
    "        np.concatenate((working_A, np.zeros((size_of_zeros, size_of_zeros))), axis=1)),\n",
    "        axis=0)\n",
    "    g_k = (G @ x) + c\n",
    "    rhs = np.concatenate((-g_k, np.zeros(size_of_zeros)), axis=0)\n",
    "\n",
    "    result = np.linalg.solve(problem, rhs.T)\n",
    "\n",
    "    descent_direction = result[0:len(G)]\n",
    "    lagrangiens = result[len(G):]\n",
    "\n",
    "    return descent_direction, lagrangiens\n",
    "\n",
    "\n",
    "def active_set_method(x_0, G, c, A, b, steps=1000):\n",
    "    x = x_0\n",
    "    w: list = np.where(A @ x == b)[0].tolist()\n",
    "\n",
    "    for k in range(steps + 1):\n",
    "        p, lambdas = compute_descent_direction_and_lagrangien(G=G, x=x, c=c, A=A, w=w)\n",
    "\n",
    "        if np.all(np.abs(p) <= 1e-15):\n",
    "            if np.all(lambdas >= 0):\n",
    "                return x, k\n",
    "            else:\n",
    "                j = np.argmin(lambdas)\n",
    "                w_j = w[j]\n",
    "                while w_j in w:\n",
    "                    w.remove(w_j)\n",
    "\n",
    "        else:\n",
    "            alpha, blocking_idx = compute_learning_rate(A, p, x, w, b)\n",
    "            x = x + alpha * p\n",
    "\n",
    "            # Are there blocking constraints\n",
    "            # http://lendek.net/teaching/OPT/qp.pdf\n",
    "            if alpha < 1:\n",
    "                w.append(blocking_idx)\n",
    "\n",
    "    return None, k"
   ]
  },
  {
   "cell_type": "markdown",
   "id": "7a726d46",
   "metadata": {},
   "source": [
    "## SQP"
   ]
  },
  {
   "cell_type": "code",
   "execution_count": 4,
   "id": "ecac7086",
   "metadata": {},
   "outputs": [],
   "source": [
    "### Implementation"
   ]
  },
  {
   "cell_type": "markdown",
   "id": "4b316c33",
   "metadata": {},
   "source": [
    "# Testruns"
   ]
  },
  {
   "cell_type": "markdown",
   "id": "90b0d6af",
   "metadata": {},
   "source": [
    "## Simplex"
   ]
  },
  {
   "cell_type": "code",
   "execution_count": 5,
   "id": "b8c3c82d",
   "metadata": {},
   "outputs": [
    {
     "name": "stdout",
     "output_type": "stream",
     "text": [
      "Optimal solution found!!!\n",
      "[[1.33333333]\n",
      " [3.66666667]]\n",
      "[[-13.66666667]]\n"
     ]
    }
   ],
   "source": [
    "prob = np.array([[-3], [-2]])\n",
    "const = np.array([[1, 1], [2, 0.5]])\n",
    "rhs = np.array([[5], [8]])\n",
    "\n",
    "x_val, sol = simplex_method(linear_problem=prob, constraints=const, constraint_rhs=rhs)\n",
    "print(x_val)\n",
    "print(sol)"
   ]
  },
  {
   "cell_type": "markdown",
   "id": "078b1539",
   "metadata": {},
   "source": [
    "## Active Set"
   ]
  },
  {
   "cell_type": "code",
   "execution_count": 9,
   "id": "8ac10c78",
   "metadata": {},
   "outputs": [
    {
     "name": "stdout",
     "output_type": "stream",
     "text": [
      "Found solution at [0. 2.] after 1 iterations\n"
     ]
    },
    {
     "name": "stderr",
     "output_type": "stream",
     "text": [
      "C:\\Users\\weikl\\AppData\\Local\\Temp\\ipykernel_24492\\2068304034.py:4: RuntimeWarning: invalid value encountered in true_divide\n",
      "  possible_alphas = numerator / denominator\n"
     ]
    }
   ],
   "source": [
    "G = np.array([[-2, 0], [0, -2]])\n",
    "c = np.array([6, 4])\n",
    "A = np.array([[1, 1], [-1, 0], [0, -1]])\n",
    "b = np.array([3, 0, 0])\n",
    "\n",
    "result, iterations = active_set_method(np.array([0, 1]), G, c, A, b)\n",
    "print(f\"Found solution at {result} after {iterations} iterations\")"
   ]
  },
  {
   "cell_type": "markdown",
   "id": "2733db68",
   "metadata": {},
   "source": [
    "## SQP"
   ]
  },
  {
   "cell_type": "code",
   "execution_count": null,
   "id": "314280aa",
   "metadata": {},
   "outputs": [],
   "source": []
  }
 ],
 "metadata": {
  "kernelspec": {
   "display_name": "Python 3 (ipykernel)",
   "language": "python",
   "name": "python3"
  },
  "language_info": {
   "codemirror_mode": {
    "name": "ipython",
    "version": 3
   },
   "file_extension": ".py",
   "mimetype": "text/x-python",
   "name": "python",
   "nbconvert_exporter": "python",
   "pygments_lexer": "ipython3",
   "version": "3.8.13"
  }
 },
 "nbformat": 4,
 "nbformat_minor": 5
}
